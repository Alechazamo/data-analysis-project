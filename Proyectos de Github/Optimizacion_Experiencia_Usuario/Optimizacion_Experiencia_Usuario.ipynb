{
 "cells": [
  {
   "cell_type": "markdown",
   "metadata": {},
   "source": [
    "¡Hola!\n",
    "\n",
    "Mi nombre es Marcos Torres y tengo el gusto de revisar tu código el día de hoy.\n",
    "\n",
    "Cuando vea algo notable o algún asunto en el notebook, te dejaré un comentario o un hint. Se que encontraras la mejor respuesta para resolver todos los comentarios, de no ser así, no te preocupes en futuras iteraciones dejaré comentarios y pistas más específicos.\n",
    "\n",
    "Encontrarás comentarios en verde, amarillo o rojo como los siguientes:\n",
    "\n",
    "<div class=\"alert alert-block alert-success\">\n",
    "<b>Comentario del revisor</b> <a class=\"tocSkip\"></a>\n",
    "\n",
    "Buen trabajo. ¡Lo hiciste muy bien!\n",
    "</div>\n",
    "\n",
    "<div class=\"alert alert-block alert-warning\">\n",
    "<b>Comentario del revisor</b> <a class=\"tocSkip\"></a>\n",
    "\n",
    "Nota. Se puede mejorar.\n",
    "</div>\n",
    "\n",
    "<div class=\"alert alert-block alert-danger\">\n",
    "<b>Comentario del revisor</b> <a class=\"tocSkip\"></a>\n",
    "\n",
    "Necesitas corregirlo. Este bloque indica que se requiere una correción. El trabajo no se acepta si tiene estos bloques.\n",
    "</div>\n",
    "\n",
    "Puedes responder a mis comentarios usando estos bloques:\n",
    "\n",
    "<div class=\"alert alert-block alert-info\">\n",
    "<b>Respuesta del estudiante.</b> <a class=\"tocSkip\"></a>\n",
    "</div>"
   ]
  },
  {
   "cell_type": "markdown",
   "metadata": {},
   "source": [
    "Proyecto Sprint 11"
   ]
  },
  {
   "cell_type": "code",
   "execution_count": 1,
   "metadata": {},
   "outputs": [],
   "source": [
    "import pandas as pd\n",
    "import matplotlib.pyplot as plt"
   ]
  },
  {
   "cell_type": "code",
   "execution_count": 2,
   "metadata": {},
   "outputs": [
    {
     "name": "stdout",
     "output_type": "stream",
     "text": [
      "                 EventName         DeviceIDHash  EventTimestamp  ExpId\n",
      "0         MainScreenAppear  4575588528974610257      1564029816    246\n",
      "1         MainScreenAppear  7416695313311560658      1564053102    246\n",
      "2  PaymentScreenSuccessful  3518123091307005509      1564054127    248\n",
      "3         CartScreenAppear  3518123091307005509      1564054127    248\n",
      "4  PaymentScreenSuccessful  6217807653094995999      1564055322    248\n"
     ]
    }
   ],
   "source": [
    "df = pd.read_csv('/datasets/logs_exp_us.csv', sep='\\t')\n",
    "print(df.head())"
   ]
  },
  {
   "cell_type": "markdown",
   "metadata": {},
   "source": [
    "<div class=\"alert alert-block alert-success\">\n",
    "<b>Comentario del revisor</b> <a class=\"tocSkip\"></a>\n",
    "\n",
    "Muy bien, usaste una celda independiente para importar las librerías y otra para leer los datos\n",
    "</div>"
   ]
  },
  {
   "cell_type": "code",
   "execution_count": 3,
   "metadata": {
    "scrolled": true
   },
   "outputs": [
    {
     "name": "stdout",
     "output_type": "stream",
     "text": [
      "                event_name              user_id  event_time  exp_id\n",
      "0         MainScreenAppear  4575588528974610257  1564029816     246\n",
      "1         MainScreenAppear  7416695313311560658  1564053102     246\n",
      "2  PaymentScreenSuccessful  3518123091307005509  1564054127     248\n",
      "3         CartScreenAppear  3518123091307005509  1564054127     248\n",
      "4  PaymentScreenSuccessful  6217807653094995999  1564055322     248\n"
     ]
    }
   ],
   "source": [
    "df = df.rename(columns={\n",
    "    'EventName': 'event_name',\n",
    "    'DeviceIDHash': 'user_id',\n",
    "    'EventTimestamp': 'event_time',\n",
    "    'ExpId': 'exp_id'\n",
    "})\n",
    "\n",
    "print(df.head())"
   ]
  },
  {
   "cell_type": "code",
   "execution_count": 4,
   "metadata": {},
   "outputs": [
    {
     "name": "stdout",
     "output_type": "stream",
     "text": [
      "event_name    0\n",
      "user_id       0\n",
      "event_time    0\n",
      "exp_id        0\n",
      "dtype: int64\n"
     ]
    }
   ],
   "source": [
    "print(df.isna().sum())\n"
   ]
  },
  {
   "cell_type": "code",
   "execution_count": 5,
   "metadata": {},
   "outputs": [
    {
     "name": "stdout",
     "output_type": "stream",
     "text": [
      "event_name    object\n",
      "user_id        int64\n",
      "event_time     int64\n",
      "exp_id         int64\n",
      "dtype: object\n"
     ]
    }
   ],
   "source": [
    "print(df.dtypes)\n"
   ]
  },
  {
   "cell_type": "code",
   "execution_count": 6,
   "metadata": {},
   "outputs": [
    {
     "name": "stdout",
     "output_type": "stream",
     "text": [
      "event_name            object\n",
      "user_id                int64\n",
      "event_time    datetime64[ns]\n",
      "exp_id                 int64\n",
      "dtype: object\n"
     ]
    }
   ],
   "source": [
    "df['event_time'] = pd.to_datetime(df['event_time'], unit='s') \n",
    "\n",
    "print(df.dtypes)"
   ]
  },
  {
   "cell_type": "markdown",
   "metadata": {},
   "source": [
    "<div class=\"alert alert-block alert-danger\">\n",
    "<b>Comentario del revisor</b> <a class=\"tocSkip\"></a>\n",
    "\n",
    "La columna event_time está en un formato llamado timestamp unix usado por algunos sistemas computacionales, que cuenta los segundos desde el 1 de enero de 1970. En este caso la función por default toma los milisegundos en lugar de segundos, para poder hacer la conversión en segundos debes usar: \n",
    "\n",
    "```    \n",
    "df['fecha'] = pd.to_datetime(df['event_time'], unit='s')    \n",
    "```\n",
    "    \n",
    "Y ahora si podrás obtener fechas correctas.\n",
    "\n",
    "</div>"
   ]
  },
  {
   "cell_type": "code",
   "execution_count": 7,
   "metadata": {},
   "outputs": [],
   "source": [
    "df['event_date'] = df['event_time'].dt.date"
   ]
  },
  {
   "cell_type": "markdown",
   "metadata": {},
   "source": [
    "<div class=\"alert alert-block alert-success\">\n",
    "<b>Comentario del revisor: Revisión 2</b> <a class=\"tocSkip\"></a>\n",
    "\n",
    "Buen uso de los métodos de pandas para explorar los datos.\n",
    "</div>"
   ]
  },
  {
   "cell_type": "code",
   "execution_count": 8,
   "metadata": {},
   "outputs": [
    {
     "name": "stdout",
     "output_type": "stream",
     "text": [
      "Número total de eventos: 244126\n"
     ]
    }
   ],
   "source": [
    "total_events = len(df)\n",
    "print('Número total de eventos:', total_events)"
   ]
  },
  {
   "cell_type": "code",
   "execution_count": 9,
   "metadata": {},
   "outputs": [
    {
     "name": "stdout",
     "output_type": "stream",
     "text": [
      "Número total de usuarios únicos: 7551\n"
     ]
    }
   ],
   "source": [
    "unique_users = df['user_id'].nunique()\n",
    "print('Número total de usuarios únicos:', unique_users)"
   ]
  },
  {
   "cell_type": "code",
   "execution_count": 10,
   "metadata": {},
   "outputs": [
    {
     "name": "stdout",
     "output_type": "stream",
     "text": [
      "Promedio de eventos por usuario: 32.33028737915508\n"
     ]
    }
   ],
   "source": [
    "average_events_per_user = total_events / unique_users\n",
    "print('Promedio de eventos por usuario:', average_events_per_user)"
   ]
  },
  {
   "cell_type": "code",
   "execution_count": 11,
   "metadata": {},
   "outputs": [
    {
     "name": "stdout",
     "output_type": "stream",
     "text": [
      "Fecha más antigua: 2019-07-25 04:43:36\n",
      "Fecha más reciente: 2019-08-07 21:15:17\n"
     ]
    }
   ],
   "source": [
    "min_date = df['event_time'].min()\n",
    "max_date = df['event_time'].max()\n",
    "\n",
    "\n",
    "print('Fecha más antigua:', min_date)\n",
    "print('Fecha más reciente:', max_date)"
   ]
  },
  {
   "cell_type": "markdown",
   "metadata": {},
   "source": [
    "<div class=\"alert alert-block alert-success\">\n",
    "<b>Comentario del revisor: Revisión 2</b> <a class=\"tocSkip\"></a>\n",
    "\n",
    "¡Muy bien! Se han tratado de manera correcta los datos de fechas.\n",
    "</div>"
   ]
  },
  {
   "cell_type": "markdown",
   "metadata": {},
   "source": [
    "Hola! Tengo una duda aqui...por qué la fecha más reciente sigue siendo 1970?"
   ]
  },
  {
   "cell_type": "markdown",
   "metadata": {},
   "source": [
    "<div class=\"alert alert-block alert-danger\">\n",
    "<b>Comentario del revisor</b> <a class=\"tocSkip\"></a>\n",
    "    \n",
    "Revisar el comentario de arriba, como referencia para saber si el cambio ya funciona:\n",
    "\n",
    "Fecha inicial 2019-08-25\n",
    "\n",
    "Fecha máxima 2019-08-07\n",
    "</div>"
   ]
  },
  {
   "cell_type": "code",
   "execution_count": 12,
   "metadata": {},
   "outputs": [
    {
     "data": {
      "image/png": "[encoded data removed]",
      "text/plain": [
       "<Figure size 1200x600 with 1 Axes>"
      ]
     },
     "metadata": {},
     "output_type": "display_data"
    }
   ],
   "source": [
    "plt.figure(figsize=(12,6))\n",
    "df['event_date'].value_counts().sort_index().plot(kind='bar', color='pink')\n",
    "plt.xlabel('Fecha')\n",
    "plt.ylabel('Número de eventos')\n",
    "plt.title('Eventos por fecha')\n",
    "plt.show()"
   ]
  },
  {
   "cell_type": "markdown",
   "metadata": {},
   "source": [
    "<div class=\"alert alert-block alert-success\">\n",
    "<b>Comentario del revisor: Revisión 2</b> <a class=\"tocSkip\"></a>\n",
    "\n",
    "Buena gráfica, muestra correctamente la distribución de los eventos a lo largo del periodo a probar.\n",
    "</div>"
   ]
  },
  {
   "cell_type": "markdown",
   "metadata": {},
   "source": [
    "En esta gr´fica puedo observar que durante los primeros días de la prueba, casi no se registraron eventos, problemente por ajustes o errores técnicos durante los primeros días. Lo mejor es quedarme con los datos desde el 1 de agosto en adelante, así analizo solo el periodo que está comppleto."
   ]
  },
  {
   "cell_type": "markdown",
   "metadata": {},
   "source": [
    "<div class=\"alert alert-block alert-success\">\n",
    "<b>Comentario del revisor: Revisión 2</b> <a class=\"tocSkip\"></a>\n",
    "\n",
    "Buena observación.\n",
    "</div>"
   ]
  },
  {
   "cell_type": "code",
   "execution_count": 13,
   "metadata": {},
   "outputs": [
    {
     "name": "stdout",
     "output_type": "stream",
     "text": [
      "Número de eventos después de filtrar: 241298\n"
     ]
    }
   ],
   "source": [
    "df = df[df['event_time'] >= pd.to_datetime('2019-08-01')]\n",
    "print('Número de eventos después de filtrar:', len(df))\n"
   ]
  },
  {
   "cell_type": "code",
   "execution_count": 14,
   "metadata": {},
   "outputs": [
    {
     "name": "stdout",
     "output_type": "stream",
     "text": [
      "MainScreenAppear           117431\n",
      "OffersScreenAppear          46350\n",
      "CartScreenAppear            42365\n",
      "PaymentScreenSuccessful     34113\n",
      "Tutorial                     1039\n",
      "Name: event_name, dtype: int64\n"
     ]
    }
   ],
   "source": [
    "event_counts = df['event_name'].value_counts()\n",
    "print(event_counts)"
   ]
  },
  {
   "cell_type": "code",
   "execution_count": 15,
   "metadata": {},
   "outputs": [
    {
     "name": "stdout",
     "output_type": "stream",
     "text": [
      "event_name\n",
      "Tutorial                    840\n",
      "PaymentScreenSuccessful    3539\n",
      "CartScreenAppear           3734\n",
      "OffersScreenAppear         4593\n",
      "MainScreenAppear           7419\n",
      "Name: user_id, dtype: int64\n"
     ]
    }
   ],
   "source": [
    "users_per_event = df.groupby('event_name')['user_id'].nunique().sort_values()\n",
    "print(users_per_event)"
   ]
  },
  {
   "cell_type": "code",
   "execution_count": 16,
   "metadata": {},
   "outputs": [
    {
     "name": "stdout",
     "output_type": "stream",
     "text": [
      "event_name\n",
      "Tutorial                   0.111244\n",
      "PaymentScreenSuccessful    0.468680\n",
      "CartScreenAppear           0.494504\n",
      "OffersScreenAppear         0.608264\n",
      "MainScreenAppear           0.982519\n",
      "Name: user_id, dtype: float64\n"
     ]
    }
   ],
   "source": [
    "proportion_per_event = users_per_event / unique_users\n",
    "print(proportion_per_event)"
   ]
  },
  {
   "cell_type": "markdown",
   "metadata": {},
   "source": [
    "<div class=\"alert alert-block alert-success\">\n",
    "<b>Comentario del revisor: Revisión 2</b> <a class=\"tocSkip\"></a>\n",
    "\n",
    "Bien hecho, los conteos y las proporciones de los eventos se han obtenido de manera correcta.\n",
    "</div>"
   ]
  },
  {
   "cell_type": "markdown",
   "metadata": {},
   "source": [
    "En este caso vemos como el embudo se va estrechando conforme los usuarios van avanzando a los siguitnes eventos, quedando de la siguinte manera:\n",
    "\n",
    "Tutorial                   11%\n",
    "PaymentScreenSuccessful    46%\n",
    "CartScreenAppear           49%\n",
    "OffersScreenAppear         60%\n",
    "MainScreenAppear           98%\n",
    "\n",
    "Esto significa que solo el 46% (menos de la mitad) llegan hasta el evento de pago."
   ]
  },
  {
   "cell_type": "markdown",
   "metadata": {},
   "source": [
    "Proporción en porcentaje de los usuarios que pasaron de una etapa a otra"
   ]
  },
  {
   "cell_type": "code",
   "execution_count": 17,
   "metadata": {},
   "outputs": [
    {
     "name": "stdout",
     "output_type": "stream",
     "text": [
      "Conversión Main → Offers: 0.6190861302062273\n",
      "Conversión Offers → Cart: 0.8129762682342695\n",
      "Conversión Cart → Payment: 0.9477771826459561\n"
     ]
    }
   ],
   "source": [
    "conversion_offers = users_per_event['OffersScreenAppear'] / users_per_event['MainScreenAppear']\n",
    "conversion_cart = users_per_event['CartScreenAppear'] / users_per_event['OffersScreenAppear']\n",
    "conversion_payment = users_per_event['PaymentScreenSuccessful'] / users_per_event['CartScreenAppear']\n",
    "\n",
    "print('Conversión Main → Offers:', conversion_offers)\n",
    "print('Conversión Offers → Cart:', conversion_cart)\n",
    "print('Conversión Cart → Payment:', conversion_payment)\n"
   ]
  },
  {
   "cell_type": "markdown",
   "metadata": {},
   "source": [
    "<div class=\"alert alert-block alert-success\">\n",
    "<b>Comentario del revisor: Revisión 2</b> <a class=\"tocSkip\"></a>\n",
    "\n",
    "Estan conversiones se calcularon de manera acertada.\n",
    "</div>"
   ]
  },
  {
   "cell_type": "markdown",
   "metadata": {},
   "source": [
    "De todos los que entran a la app, el 61% avanza a ver las ofertas\n",
    "De los que ven las ofertas, el 81% agrega algo al carrito\n",
    "Y de los que ponen algo en el carrito, el 95% llega a pagar\n",
    "\n",
    "Casi nadie se pierde al final, la mayor pérdida está entre la pantalla principal y la pantalla de ofertas."
   ]
  },
  {
   "cell_type": "code",
   "execution_count": 18,
   "metadata": {},
   "outputs": [],
   "source": [
    "from statsmodels.stats.proportion import proportions_ztest\n",
    "\n",
    "def compare_groups(event_name, group1, group2):\n",
    "    users_1 = df[df['exp_id'] == group1]['user_id'].nunique()\n",
    "    users_2 = df[df['exp_id'] == group2]['user_id'].nunique()\n",
    "\n",
    "    event_1 = df[(df['exp_id'] == group1) & (df['event_name'] == event_name)]['user_id'].nunique()\n",
    "    event_2 = df[(df['exp_id'] == group2) & (df['event_name'] == event_name)]['user_id'].nunique()\n",
    "\n",
    "    counts = [event_1, event_2]\n",
    "    nobs = [users_1, users_2]\n",
    "\n",
    "    stat, pval = proportions_ztest(counts, nobs)\n",
    "    print(f'\\nComparación para evento: {event_name}')\n",
    "    print(f'{group1} → {event_1}/{users_1} = {event_1/users_1:.4f}')\n",
    "    print(f'{group2} → {event_2}/{users_2} = {event_2/users_2:.4f}')\n",
    "    print(f'Estadístico z: {stat:.4f}')\n",
    "    print(f'Valor p: {pval:.4f}')\n"
   ]
  },
  {
   "cell_type": "markdown",
   "metadata": {},
   "source": [
    "<div class=\"alert alert-block alert-warning\">\n",
    "<b>Comentario del revisor: Revisión 2</b> <a class=\"tocSkip\"></a>\n",
    "\n",
    "Recuerda realizar todas las importaciones de librerías en la primer celda al inicio del proyecto.\n",
    "</div>"
   ]
  },
  {
   "cell_type": "code",
   "execution_count": 19,
   "metadata": {},
   "outputs": [
    {
     "name": "stdout",
     "output_type": "stream",
     "text": [
      "\n",
      "Comparación para evento: MainScreenAppear\n",
      "246 → 2450/2484 = 0.9863\n",
      "248 → 2493/2537 = 0.9827\n",
      "Estadístico z: 1.0473\n",
      "Valor p: 0.2950\n",
      "\n",
      "Comparación para evento: OffersScreenAppear\n",
      "246 → 1542/2484 = 0.6208\n",
      "248 → 1531/2537 = 0.6035\n",
      "Estadístico z: 1.2581\n",
      "Valor p: 0.2084\n",
      "\n",
      "Comparación para evento: CartScreenAppear\n",
      "246 → 1266/2484 = 0.5097\n",
      "248 → 1230/2537 = 0.4848\n",
      "Estadístico z: 1.7599\n",
      "Valor p: 0.0784\n",
      "\n",
      "Comparación para evento: PaymentScreenSuccessful\n",
      "246 → 1200/2484 = 0.4831\n",
      "248 → 1181/2537 = 0.4655\n",
      "Estadístico z: 1.2474\n",
      "Valor p: 0.2123\n"
     ]
    }
   ],
   "source": [
    "compare_groups('MainScreenAppear', 246, 248)\n",
    "compare_groups('OffersScreenAppear', 246, 248)\n",
    "compare_groups('CartScreenAppear', 246, 248)\n",
    "compare_groups('PaymentScreenSuccessful', 246, 248)\n"
   ]
  },
  {
   "cell_type": "markdown",
   "metadata": {},
   "source": [
    "<div class=\"alert alert-block alert-success\">\n",
    "<b>Comentario del revisor: Revisión 2</b> <a class=\"tocSkip\"></a>\n",
    "\n",
    "¡Bien hecho! Las pruebas de hipótesis se realizaron de manera adecuada, además me gustó que todo lo hiciste con una función esto ayuda a reducir bastantes líneas de código y a estandarizar el trabajo.\n",
    "</div>"
   ]
  },
  {
   "cell_type": "markdown",
   "metadata": {},
   "source": [
    "No se observaron diferencias estadísticamente significativas en la participación de los usuarios entre el grupo que recibió la fuente nueva y el grupo que mantuvo la fuente antigua.\n",
    " Esto sugiere que el cambio de tipo de letra no tuvo un impacto negativo ni positivo sobre el comportamiento del usuario en el embudo de conversión."
   ]
  },
  {
   "cell_type": "code",
   "execution_count": 20,
   "metadata": {},
   "outputs": [],
   "source": [
    "users_246 = df[df['exp_id'] == 246]['user_id'].nunique()\n",
    "users_247 = df[df['exp_id'] == 247]['user_id'].nunique()\n",
    "users_248 = df[df['exp_id'] == 248]['user_id'].nunique()\n",
    "\n",
    "users_A = users_246 + users_247\n"
   ]
  },
  {
   "cell_type": "code",
   "execution_count": 21,
   "metadata": {},
   "outputs": [],
   "source": [
    "event_name = 'MainScreenAppear'\n",
    "\n",
    "event_246 = df[(df['exp_id'] == 246) & (df['event_name'] == event_name)]['user_id'].nunique()\n",
    "event_247 = df[(df['exp_id'] == 247) & (df['event_name'] == event_name)]['user_id'].nunique()\n",
    "event_248 = df[(df['exp_id'] == 248) & (df['event_name'] == event_name)]['user_id'].nunique()\n",
    "\n",
    "events_A = event_246 + event_247\n"
   ]
  },
  {
   "cell_type": "code",
   "execution_count": 22,
   "metadata": {},
   "outputs": [
    {
     "name": "stdout",
     "output_type": "stream",
     "text": [
      "\n",
      "Comparando grupo A combinado vs grupo 248 en el evento: MainScreenAppear\n",
      "Proporción A: 4926/4997 = 0.9858\n",
      "Proporción B: 2493/2537 = 0.9827\n",
      "Estadístico z: 1.0489\n",
      "Valor p: 0.2942\n"
     ]
    }
   ],
   "source": [
    "counts = [events_A, event_248]  \n",
    "nobs = [users_A, users_248]          \n",
    "\n",
    "from statsmodels.stats.proportion import proportions_ztest\n",
    "\n",
    "stat, pval = proportions_ztest(counts, nobs)\n",
    "\n",
    "print(f'\\nComparando grupo A combinado vs grupo 248 en el evento: {event_name}')\n",
    "print(f'Proporción A: {events_A}/{users_A} = {events_A/users_A:.4f}')\n",
    "print(f'Proporción B: {event_248}/{users_248} = {event_248/users_248:.4f}')\n",
    "print(f'Estadístico z: {stat:.4f}')\n",
    "print(f'Valor p: {pval:.4f}')\n"
   ]
  },
  {
   "cell_type": "markdown",
   "metadata": {},
   "source": [
    "<div class=\"alert alert-block alert-success\">\n",
    "<b>Comentario del revisor: Revisión 2</b> <a class=\"tocSkip\"></a>\n",
    "\n",
    "¡Muy bien! Este estadístico z y el p valor asociado se han calculado de manera correcta.\n",
    "</div>"
   ]
  },
  {
   "cell_type": "code",
   "execution_count": 23,
   "metadata": {},
   "outputs": [
    {
     "name": "stdout",
     "output_type": "stream",
     "text": [
      "\n",
      "Comparando grupo A combinado vs grupo 248 en el evento: OffersScreenAppear\n",
      "Proporción A: 3062/4997 = 0.6128\n",
      "Proporción B: 1531/2537 = 0.6035\n",
      "Estadístico z: 0.7819\n",
      "Valor p: 0.4343\n"
     ]
    }
   ],
   "source": [
    "event_name = 'OffersScreenAppear'\n",
    "\n",
    "users_246 = df[df['exp_id'] == 246]['user_id'].nunique()\n",
    "users_247 = df[df['exp_id'] == 247]['user_id'].nunique()\n",
    "users_248 = df[df['exp_id'] == 248]['user_id'].nunique()\n",
    "users_A = users_246 + users_247\n",
    "\n",
    "event_246 = df[(df['exp_id'] == 246) & (df['event_name'] == event_name)]['user_id'].nunique()\n",
    "event_247 = df[(df['exp_id'] == 247) & (df['event_name'] == event_name)]['user_id'].nunique()\n",
    "event_248 = df[(df['exp_id'] == 248) & (df['event_name'] == event_name)]['user_id'].nunique()\n",
    "events_A = event_246 + event_247\n",
    "\n",
    "from statsmodels.stats.proportion import proportions_ztest\n",
    "counts = [events_A, event_248]\n",
    "nobs = [users_A, users_248]\n",
    "\n",
    "stat, pval = proportions_ztest(counts, nobs)\n",
    "\n",
    "print(f'\\nComparando grupo A combinado vs grupo 248 en el evento: {event_name}')\n",
    "print(f'Proporción A: {events_A}/{users_A} = {events_A/users_A:.4f}')\n",
    "print(f'Proporción B: {event_248}/{users_248} = {event_248/users_248:.4f}')\n",
    "print(f'Estadístico z: {stat:.4f}')\n",
    "print(f'Valor p: {pval:.4f}')\n"
   ]
  },
  {
   "cell_type": "code",
   "execution_count": 25,
   "metadata": {},
   "outputs": [
    {
     "name": "stdout",
     "output_type": "stream",
     "text": [
      "\n",
      "Comparando grupo A combinado vs grupo 248 en el evento: CartScreenAppear\n",
      "Proporción A: 2504/4997 = 0.5011\n",
      "Proporción B: 1230/2537 = 0.4848\n",
      "Estadístico z: 1.3354\n",
      "Valor p: 0.1818\n"
     ]
    }
   ],
   "source": [
    "event_name = 'CartScreenAppear'\n",
    "\n",
    "users_246 = df[df['exp_id'] == 246]['user_id'].nunique()\n",
    "users_247 = df[df['exp_id'] == 247]['user_id'].nunique()\n",
    "users_248 = df[df['exp_id'] == 248]['user_id'].nunique()\n",
    "users_A = users_246 + users_247\n",
    "\n",
    "event_246 = df[(df['exp_id'] == 246) & (df['event_name'] == event_name)]['user_id'].nunique()\n",
    "event_247 = df[(df['exp_id'] == 247) & (df['event_name'] == event_name)]['user_id'].nunique()\n",
    "event_248 = df[(df['exp_id'] == 248) & (df['event_name'] == event_name)]['user_id'].nunique()\n",
    "events_A = event_246 + event_247\n",
    "\n",
    "from statsmodels.stats.proportion import proportions_ztest\n",
    "counts = [events_A, event_248]\n",
    "nobs = [users_A, users_248]\n",
    "\n",
    "stat, pval = proportions_ztest(counts, nobs)\n",
    "\n",
    "print(f'\\nComparando grupo A combinado vs grupo 248 en el evento: {event_name}')\n",
    "print(f'Proporción A: {events_A}/{users_A} = {events_A/users_A:.4f}')\n",
    "print(f'Proporción B: {event_248}/{users_248} = {event_248/users_248:.4f}')\n",
    "print(f'Estadístico z: {stat:.4f}')\n",
    "print(f'Valor p: {pval:.4f}')\n"
   ]
  },
  {
   "cell_type": "code",
   "execution_count": 26,
   "metadata": {},
   "outputs": [
    {
     "name": "stdout",
     "output_type": "stream",
     "text": [
      "\n",
      "Comparando grupo A combinado vs grupo 248 en el evento: PaymentScreenSuccessful\n",
      "Proporción A: 2358/4997 = 0.4719\n",
      "Proporción B: 1181/2537 = 0.4655\n",
      "Estadístico z: 0.5238\n",
      "Valor p: 0.6004\n"
     ]
    }
   ],
   "source": [
    "event_name = 'PaymentScreenSuccessful'\n",
    "\n",
    "users_246 = df[df['exp_id'] == 246]['user_id'].nunique()\n",
    "users_247 = df[df['exp_id'] == 247]['user_id'].nunique()\n",
    "users_248 = df[df['exp_id'] == 248]['user_id'].nunique()\n",
    "users_A = users_246 + users_247\n",
    "\n",
    "event_246 = df[(df['exp_id'] == 246) & (df['event_name'] == event_name)]['user_id'].nunique()\n",
    "event_247 = df[(df['exp_id'] == 247) & (df['event_name'] == event_name)]['user_id'].nunique()\n",
    "event_248 = df[(df['exp_id'] == 248) & (df['event_name'] == event_name)]['user_id'].nunique()\n",
    "events_A = event_246 + event_247\n",
    "\n",
    "from statsmodels.stats.proportion import proportions_ztest\n",
    "counts = [events_A, event_248]\n",
    "nobs = [users_A, users_248]\n",
    "\n",
    "stat, pval = proportions_ztest(counts, nobs)\n",
    "\n",
    "print(f'\\nComparando grupo A combinado vs grupo 248 en el evento: {event_name}')\n",
    "print(f'Proporción A: {events_A}/{users_A} = {events_A/users_A:.4f}')\n",
    "print(f'Proporción B: {event_248}/{users_248} = {event_248/users_248:.4f}')\n",
    "print(f'Estadístico z: {stat:.4f}')\n",
    "print(f'Valor p: {pval:.4f}')"
   ]
  },
  {
   "cell_type": "markdown",
   "metadata": {},
   "source": [
    "<div class=\"alert alert-block alert-success\">\n",
    "<b>Comentario del revisor: Revisión 2</b> <a class=\"tocSkip\"></a>\n",
    "\n",
    "Buen trabajo con las pruebas para verificar el efecto del experimento en todas las combinaciones posibles. Esto le da más sustento a cualquier decisión que se quiera tomar.\n",
    "</div>"
   ]
  },
  {
   "cell_type": "markdown",
   "metadata": {},
   "source": [
    "El cambio en la fuente tipográfica no tuvo un impacto negativo ni positivo en el comportamiento de los usuarios a través del embudo.\n",
    "No hay evidencia de que el nuevo diseño afecte la conversión o el avance del usuario en la app.\n",
    "Por lo tanto, si el cambio de fuente tiene beneficios estéticos o de marca, puede implementarse con seguridad, sin riesgo de afectar la experiencia del usuario."
   ]
  },
  {
   "cell_type": "markdown",
   "metadata": {},
   "source": [
    "<div class=\"alert alert-block alert-success\">\n",
    "<b>Comentario del revisor</b> <a class=\"tocSkip\"></a>\n",
    "\n",
    "Buenas conclusiones, basadas en lo realizado a lo largo de todo el proyecto.\n",
    "</div>"
   ]
  },
  {
   "cell_type": "markdown",
   "metadata": {},
   "source": [
    "<div class=\"alert alert-block alert-success\">\n",
    "<b>Comentario del revisor</b> <a class=\"tocSkip\"></a>\n",
    "\n",
    "¡Hola!\n",
    "\n",
    "Te quiero felicitar por tu proyecto, está bastante completo y bien realizado. Me gustó como realizaste las pruebas de hipótesis para la prueba AB usando una función que ya calculaba e imprimía el estadístico z y los p valores, muy buen trabajo.\n",
    "\n",
    "\n",
    "\n",
    "Solo realicé unos comentarios opcionales de color amarillo, pero no son necesarios para aprobar el proyecto. Te deseo mucho éxito en los siguientes sprints.\n",
    "\n",
    "Saludos, Marcos.\n",
    "</div>"
   ]
  },
  {
   "cell_type": "code",
   "execution_count": null,
   "metadata": {},
   "outputs": [],
   "source": []
  }
 ],
 "metadata": {
  "ExecuteTimeLog": [
   {
    "duration": 325,
    "start_time": "2025-05-07T01:41:17.992Z"
   },
   {
    "duration": 220,
    "start_time": "2025-05-07T01:41:18.706Z"
   },
   {
    "duration": 192,
    "start_time": "2025-05-07T01:41:39.469Z"
   },
   {
    "duration": 7,
    "start_time": "2025-05-07T01:42:28.336Z"
   },
   {
    "duration": 8,
    "start_time": "2025-05-07T01:42:44.626Z"
   },
   {
    "duration": 5,
    "start_time": "2025-05-07T01:43:17.062Z"
   },
   {
    "duration": 189,
    "start_time": "2025-05-07T01:43:25.575Z"
   },
   {
    "duration": 105,
    "start_time": "2025-05-07T01:44:24.695Z"
   },
   {
    "duration": 6,
    "start_time": "2025-05-07T01:44:27.806Z"
   },
   {
    "duration": 11,
    "start_time": "2025-05-07T01:45:32.979Z"
   },
   {
    "duration": 7,
    "start_time": "2025-05-07T01:45:50.499Z"
   },
   {
    "duration": 27,
    "start_time": "2025-05-07T01:46:50.859Z"
   },
   {
    "duration": 9,
    "start_time": "2025-05-07T01:47:06.986Z"
   },
   {
    "duration": 43,
    "start_time": "2025-05-07T01:47:38.079Z"
   },
   {
    "duration": 300,
    "start_time": "2025-05-08T00:51:11.967Z"
   },
   {
    "duration": 131,
    "start_time": "2025-05-08T00:51:12.270Z"
   },
   {
    "duration": 7,
    "start_time": "2025-05-08T00:51:12.403Z"
   },
   {
    "duration": 11,
    "start_time": "2025-05-08T00:51:12.412Z"
   },
   {
    "duration": 4,
    "start_time": "2025-05-08T00:51:12.425Z"
   },
   {
    "duration": 31,
    "start_time": "2025-05-08T00:51:12.430Z"
   },
   {
    "duration": 66,
    "start_time": "2025-05-08T00:51:12.463Z"
   },
   {
    "duration": 2016,
    "start_time": "2025-05-08T00:55:46.836Z"
   },
   {
    "duration": 4,
    "start_time": "2025-05-08T00:56:44.980Z"
   },
   {
    "duration": 9,
    "start_time": "2025-05-08T00:58:50.789Z"
   },
   {
    "duration": 2,
    "start_time": "2025-05-08T01:00:22.810Z"
   },
   {
    "duration": 3,
    "start_time": "2025-05-08T01:00:40.179Z"
   },
   {
    "duration": 3,
    "start_time": "2025-05-08T01:01:45.244Z"
   },
   {
    "duration": 6,
    "start_time": "2025-05-08T01:05:01.583Z"
   },
   {
    "duration": 156,
    "start_time": "2025-05-08T22:55:50.325Z"
   },
   {
    "duration": 2110,
    "start_time": "2025-05-08T22:55:54.551Z"
   },
   {
    "duration": 204,
    "start_time": "2025-05-08T22:55:56.664Z"
   },
   {
    "duration": 8,
    "start_time": "2025-05-08T22:55:59.390Z"
   },
   {
    "duration": 14,
    "start_time": "2025-05-08T22:56:01.366Z"
   },
   {
    "duration": 4,
    "start_time": "2025-05-08T22:56:02.747Z"
   },
   {
    "duration": 9,
    "start_time": "2025-05-08T22:56:04.795Z"
   },
   {
    "duration": 44,
    "start_time": "2025-05-08T22:56:07.735Z"
   },
   {
    "duration": 3,
    "start_time": "2025-05-08T22:56:08.668Z"
   },
   {
    "duration": 8,
    "start_time": "2025-05-08T22:56:10.134Z"
   },
   {
    "duration": 3,
    "start_time": "2025-05-08T22:56:12.023Z"
   },
   {
    "duration": 4,
    "start_time": "2025-05-08T22:56:13.230Z"
   },
   {
    "duration": 233,
    "start_time": "2025-05-08T23:05:46.794Z"
   },
   {
    "duration": 181,
    "start_time": "2025-05-08T23:06:02.102Z"
   },
   {
    "duration": 189,
    "start_time": "2025-05-08T23:06:20.766Z"
   },
   {
    "duration": 184,
    "start_time": "2025-05-08T23:06:33.188Z"
   },
   {
    "duration": 197,
    "start_time": "2025-05-08T23:06:44.514Z"
   },
   {
    "duration": 148,
    "start_time": "2025-05-08T23:23:38.287Z"
   },
   {
    "duration": 20,
    "start_time": "2025-05-08T23:24:11.160Z"
   },
   {
    "duration": 12,
    "start_time": "2025-05-08T23:24:13.064Z"
   },
   {
    "duration": 12,
    "start_time": "2025-05-08T23:24:29.646Z"
   },
   {
    "duration": 17,
    "start_time": "2025-05-08T23:30:39.550Z"
   },
   {
    "duration": 35,
    "start_time": "2025-05-08T23:37:56.082Z"
   },
   {
    "duration": 35,
    "start_time": "2025-05-08T23:38:49.795Z"
   },
   {
    "duration": 9,
    "start_time": "2025-05-08T23:42:17.391Z"
   },
   {
    "duration": 5,
    "start_time": "2025-05-08T23:42:30.173Z"
   },
   {
    "duration": 3,
    "start_time": "2025-05-08T23:57:23.697Z"
   }
  ],
  "kernelspec": {
   "display_name": "Python 3 (ipykernel)",
   "language": "python",
   "name": "python3"
  },
  "language_info": {
   "codemirror_mode": {
    "name": "ipython",
    "version": 3
   },
   "file_extension": ".py",
   "mimetype": "text/x-python",
   "name": "python",
   "nbconvert_exporter": "python",
   "pygments_lexer": "ipython3",
   "version": "3.9.22"
  },
  "toc": {
   "base_numbering": 1,
   "nav_menu": {},
   "number_sections": true,
   "sideBar": true,
   "skip_h1_title": true,
   "title_cell": "Table of Contents",
   "title_sidebar": "Contents",
   "toc_cell": false,
   "toc_position": {},
   "toc_section_display": true,
   "toc_window_display": false
  }
 },
 "nbformat": 4,
 "nbformat_minor": 4
}
